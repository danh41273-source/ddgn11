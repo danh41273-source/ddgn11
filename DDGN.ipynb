{
  "nbformat": 4,
  "nbformat_minor": 0,
  "metadata": {
    "colab": {
      "provenance": [],
      "gpuType": "T4"
    },
    "kernelspec": {
      "name": "python3",
      "display_name": "Python 3"
    },
    "language_info": {
      "name": "python"
    },
    "accelerator": "GPU"
  },
  "cells": [
    {
      "cell_type": "code",
      "execution_count": 1,
      "metadata": {
        "id": "FzIHChZ3O4kZ"
      },
      "outputs": [],
      "source": [
        "import os, json, math, warnings\n",
        "warnings.filterwarnings(\"ignore\")\n",
        "\n",
        "import numpy as np\n",
        "import pandas as pd\n",
        "import matplotlib.pyplot as plt\n",
        "\n",
        "from pathlib import Path\n",
        "from sklearn.model_selection import train_test_split, KFold, cross_val_score, GridSearchCV\n",
        "from sklearn.preprocessing import StandardScaler\n",
        "from sklearn.pipeline import Pipeline\n",
        "from sklearn.metrics import mean_squared_error, mean_absolute_error, r2_score\n",
        "from sklearn.linear_model import LinearRegression\n",
        "from sklearn.ensemble import RandomForestRegressor, GradientBoostingRegressor\n",
        "import joblib"
      ]
    },
    {
      "cell_type": "code",
      "source": [
        "from google.colab import drive\n",
        "drive.mount('/content/drive')"
      ],
      "metadata": {
        "colab": {
          "base_uri": "https://localhost:8080/"
        },
        "id": "yt7s_31HbrRh",
        "outputId": "a454cb23-0ae0-49bc-c1c7-3104e62a4300"
      },
      "execution_count": 2,
      "outputs": [
        {
          "output_type": "stream",
          "name": "stdout",
          "text": [
            "Mounted at /content/drive\n"
          ]
        }
      ]
    },
    {
      "cell_type": "code",
      "source": [
        "CANDIDATE_FILES = [\"HousingData.csv\"]\n",
        "csv_path = None\n",
        "for name in CANDIDATE_FILES:\n",
        "    if Path(name).exists():\n",
        "        csv_path = name\n",
        "        break\n",
        "if csv_path is None:\n",
        "    raise FileNotFoundError(\"Không tìm thấy file dữ liệu CSV\")\n",
        "\n",
        "df = pd.read_csv(csv_path)\n",
        "drop_like = [c for c in df.columns if c.lower().startswith(\"unnamed\")]\n",
        "if drop_like:\n",
        "    df = df.drop(columns=drop_like)\n",
        "\n",
        "print(\"Kích thước dữ liệu:\", df.shape)\n",
        "print(df.head())"
      ],
      "metadata": {
        "colab": {
          "base_uri": "https://localhost:8080/"
        },
        "id": "3xsRXAwaPQcC",
        "outputId": "05a12c79-d1cc-4130-a6c4-31e2ea96bad9"
      },
      "execution_count": 4,
      "outputs": [
        {
          "output_type": "stream",
          "name": "stdout",
          "text": [
            "Kích thước dữ liệu: (506, 14)\n",
            "      CRIM    ZN  INDUS  CHAS    NOX     RM   AGE     DIS  RAD  TAX  PTRATIO  \\\n",
            "0  0.00632  18.0   2.31   0.0  0.538  6.575  65.2  4.0900    1  296     15.3   \n",
            "1  0.02731   0.0   7.07   0.0  0.469  6.421  78.9  4.9671    2  242     17.8   \n",
            "2  0.02729   0.0   7.07   0.0  0.469  7.185  61.1  4.9671    2  242     17.8   \n",
            "3  0.03237   0.0   2.18   0.0  0.458  6.998  45.8  6.0622    3  222     18.7   \n",
            "4  0.06905   0.0   2.18   0.0  0.458  7.147  54.2  6.0622    3  222     18.7   \n",
            "\n",
            "        B  LSTAT  MEDV  \n",
            "0  396.90   4.98  24.0  \n",
            "1  396.90   9.14  21.6  \n",
            "2  392.83   4.03  34.7  \n",
            "3  394.63   2.94  33.4  \n",
            "4  396.90    NaN  36.2  \n"
          ]
        }
      ]
    },
    {
      "cell_type": "code",
      "source": [
        "print(\"Missing values:\")\n",
        "print(df.isnull().sum().sort_values(ascending=False))\n",
        "print(\"Thống kê mô tả:\")\n",
        "print(df.describe())\n",
        "\n",
        "plt.figure()\n",
        "df[\"MEDV\"].hist(bins=30)\n",
        "plt.title(\"Phân phối MEDV (giá nhà)\")\n",
        "plt.show()"
      ],
      "metadata": {
        "colab": {
          "base_uri": "https://localhost:8080/",
          "height": 1000
        },
        "id": "7KbiQpR2PY4D",
        "outputId": "32b29942-f4b5-456b-bc0a-accf65c88655"
      },
      "execution_count": 5,
      "outputs": [
        {
          "output_type": "stream",
          "name": "stdout",
          "text": [
            "Missing values:\n",
            "CRIM       20\n",
            "ZN         20\n",
            "INDUS      20\n",
            "CHAS       20\n",
            "LSTAT      20\n",
            "AGE        20\n",
            "RM          0\n",
            "NOX         0\n",
            "RAD         0\n",
            "DIS         0\n",
            "TAX         0\n",
            "PTRATIO     0\n",
            "B           0\n",
            "MEDV        0\n",
            "dtype: int64\n",
            "Thống kê mô tả:\n",
            "             CRIM          ZN       INDUS        CHAS         NOX          RM  \\\n",
            "count  486.000000  486.000000  486.000000  486.000000  506.000000  506.000000   \n",
            "mean     3.611874   11.211934   11.083992    0.069959    0.554695    6.284634   \n",
            "std      8.720192   23.388876    6.835896    0.255340    0.115878    0.702617   \n",
            "min      0.006320    0.000000    0.460000    0.000000    0.385000    3.561000   \n",
            "25%      0.081900    0.000000    5.190000    0.000000    0.449000    5.885500   \n",
            "50%      0.253715    0.000000    9.690000    0.000000    0.538000    6.208500   \n",
            "75%      3.560263   12.500000   18.100000    0.000000    0.624000    6.623500   \n",
            "max     88.976200  100.000000   27.740000    1.000000    0.871000    8.780000   \n",
            "\n",
            "              AGE         DIS         RAD         TAX     PTRATIO           B  \\\n",
            "count  486.000000  506.000000  506.000000  506.000000  506.000000  506.000000   \n",
            "mean    68.518519    3.795043    9.549407  408.237154   18.455534  356.674032   \n",
            "std     27.999513    2.105710    8.707259  168.537116    2.164946   91.294864   \n",
            "min      2.900000    1.129600    1.000000  187.000000   12.600000    0.320000   \n",
            "25%     45.175000    2.100175    4.000000  279.000000   17.400000  375.377500   \n",
            "50%     76.800000    3.207450    5.000000  330.000000   19.050000  391.440000   \n",
            "75%     93.975000    5.188425   24.000000  666.000000   20.200000  396.225000   \n",
            "max    100.000000   12.126500   24.000000  711.000000   22.000000  396.900000   \n",
            "\n",
            "            LSTAT        MEDV  \n",
            "count  486.000000  506.000000  \n",
            "mean    12.715432   22.532806  \n",
            "std      7.155871    9.197104  \n",
            "min      1.730000    5.000000  \n",
            "25%      7.125000   17.025000  \n",
            "50%     11.430000   21.200000  \n",
            "75%     16.955000   25.000000  \n",
            "max     37.970000   50.000000  \n"
          ]
        },
        {
          "output_type": "display_data",
          "data": {
            "text/plain": [
              "<Figure size 640x480 with 1 Axes>"
            ],
            "image/png": "[encoded data removed]"
          },
          "metadata": {}
        }
      ]
    },
    {
      "cell_type": "code",
      "source": [
        "def make_features(data: pd.DataFrame) -> pd.DataFrame:\n",
        "    df2 = data.copy()\n",
        "    if all(c in df2.columns for c in [\"RM\", \"LSTAT\"]):\n",
        "        df2[\"RM_LSTAT\"] = df2[\"RM\"] * df2[\"LSTAT\"]\n",
        "        df2[\"RM2\"] = df2[\"RM\"] ** 2\n",
        "        df2[\"LSTAT2\"] = df2[\"LSTAT\"] ** 2\n",
        "    if all(c in df2.columns for c in [\"TAX\", \"AGE\"]):\n",
        "        df2[\"TAX_AGE\"] = df2[\"TAX\"] * df2[\"AGE\"]\n",
        "    return df2\n",
        "\n",
        "df_fe = make_features(df)\n",
        "X_full = df_fe.drop(columns=[\"MEDV\"])\n",
        "y = df_fe[\"MEDV\"].values"
      ],
      "metadata": {
        "id": "y4Ykd6r-PeeH"
      },
      "execution_count": 6,
      "outputs": []
    },
    {
      "cell_type": "code",
      "source": [
        "X_train, X_test, y_train, y_test = train_test_split(\n",
        "    X_full, y, test_size=0.2, random_state=42\n",
        ")"
      ],
      "metadata": {
        "id": "HK5qLu33Pjce"
      },
      "execution_count": 7,
      "outputs": []
    },
    {
      "cell_type": "code",
      "source": [
        "from sklearn.impute import SimpleImputer\n",
        "\n",
        "def rmse(y_true, y_pred):\n",
        "    return math.sqrt(mean_squared_error(y_true, y_pred))\n",
        "\n",
        "def evaluate_holdout(name, model):\n",
        "    # Create a pipeline for each model that includes imputation\n",
        "    pipeline = Pipeline([\n",
        "        (\"imputer\", SimpleImputer(strategy=\"mean\")), # Add imputer here\n",
        "        (\"model\", model)\n",
        "    ])\n",
        "    pipeline.fit(X_train, y_train)\n",
        "    pred = pipeline.predict(X_test)\n",
        "    return {\n",
        "        \"model\": name,\n",
        "        \"RMSE\": rmse(y_test, pred),\n",
        "        \"MAE\": mean_absolute_error(y_test, pred),\n",
        "        \"R2\": r2_score(y_test, pred)\n",
        "    }\n",
        "\n",
        "# No need to include StandardScaler in the evaluate_holdout function anymore\n",
        "# as it's part of the pipeline definition for Linear Regression below.\n",
        "pipe_lr = LinearRegression()\n",
        "rf = RandomForestRegressor(n_estimators=300, random_state=42, n_jobs=-1)\n",
        "gbr = GradientBoostingRegressor(n_estimators=300, learning_rate=0.05, max_depth=3, random_state=42)\n",
        "\n",
        "models = {\"Linear Regression\": pipe_lr, \"Random Forest\": rf, \"Gradient Boosting\": gbr}\n",
        "\n",
        "results = [evaluate_holdout(n, m) for n, m in models.items()]\n",
        "results_df = pd.DataFrame(results)\n",
        "print(results_df)"
      ],
      "metadata": {
        "colab": {
          "base_uri": "https://localhost:8080/"
        },
        "id": "aYlFPrhuPnJ6",
        "outputId": "7eb97161-b215-4808-cf6a-b01b28ed9e2f"
      },
      "execution_count": 8,
      "outputs": [
        {
          "output_type": "stream",
          "name": "stdout",
          "text": [
            "               model      RMSE       MAE        R2\n",
            "0  Linear Regression  3.758451  2.340770  0.807375\n",
            "1      Random Forest  2.934344  2.027510  0.882587\n",
            "2  Gradient Boosting  2.628490  1.881853  0.905788\n"
          ]
        }
      ]
    },
    {
      "cell_type": "code",
      "source": [
        "def plot_bar(df, metric):\n",
        "    plt.figure()\n",
        "    plt.bar(df[\"model\"], df[metric])\n",
        "    plt.title(metric)\n",
        "    plt.show()\n",
        "\n",
        "plot_bar(results_df, \"RMSE\")\n",
        "plot_bar(results_df, \"MAE\")\n",
        "plot_bar(results_df, \"R2\")"
      ],
      "metadata": {
        "colab": {
          "base_uri": "https://localhost:8080/",
          "height": 1000
        },
        "id": "UTE5U4iaPuzj",
        "outputId": "962a3204-e41e-418d-e7bc-bf25cfc06bee"
      },
      "execution_count": 9,
      "outputs": [
        {
          "output_type": "display_data",
          "data": {
            "text/plain": [
              "<Figure size 640x480 with 1 Axes>"
            ],
            "image/png": "[encoded data removed]"
          },
          "metadata": {}
        },
        {
          "output_type": "display_data",
          "data": {
            "text/plain": [
              "<Figure size 640x480 with 1 Axes>"
            ],
            "image/png": "[encoded data removed]"
          },
          "metadata": {}
        },
        {
          "output_type": "display_data",
          "data": {
            "text/plain": [
              "<Figure size 640x480 with 1 Axes>"
            ],
            "image/png": "[encoded data removed]"
          },
          "metadata": {}
        }
      ]
    },
    {
      "cell_type": "code",
      "source": [
        "from sklearn.impute import SimpleImputer\n",
        "\n",
        "cv = KFold(n_splits=5, shuffle=True, random_state=42)\n",
        "cv_rows = []\n",
        "for name, mdl in models.items():\n",
        "    # Create a pipeline for cross-validation that includes imputation\n",
        "    pipeline = Pipeline([\n",
        "        (\"imputer\", SimpleImputer(strategy=\"mean\")),\n",
        "        (\"model\", mdl)\n",
        "    ])\n",
        "    neg_mse = cross_val_score(pipeline, X_full, y, cv=cv, scoring=\"neg_mean_squared_error\")\n",
        "    r2s = cross_val_score(pipeline, X_full, y, cv=cv, scoring=\"r2\")\n",
        "    cv_rows.append({\n",
        "        \"model\": name,\n",
        "        \"CV_RMSE_mean\": np.sqrt(-neg_mse).mean(),\n",
        "        \"CV_R2_mean\": r2s.mean()\n",
        "    })\n",
        "print(pd.DataFrame(cv_rows))"
      ],
      "metadata": {
        "colab": {
          "base_uri": "https://localhost:8080/"
        },
        "id": "U82AIVTxP0b9",
        "outputId": "87201761-c017-41e4-9b58-dd305a446d7e"
      },
      "execution_count": 10,
      "outputs": [
        {
          "output_type": "stream",
          "name": "stdout",
          "text": [
            "               model  CV_RMSE_mean  CV_R2_mean\n",
            "0  Linear Regression      4.159067    0.787590\n",
            "1      Random Forest      3.507135    0.850541\n",
            "2  Gradient Boosting      2.971297    0.892423\n"
          ]
        }
      ]
    },
    {
      "cell_type": "code",
      "source": [
        "from sklearn.impute import SimpleImputer\n",
        "\n",
        "# Create pipelines for GridSearchCV including imputation\n",
        "pipe_rf = Pipeline([\n",
        "    (\"imputer\", SimpleImputer(strategy=\"mean\")),\n",
        "    (\"rf\", RandomForestRegressor(random_state=42, n_jobs=-1))\n",
        "])\n",
        "\n",
        "pipe_gbr = Pipeline([\n",
        "    (\"imputer\", SimpleImputer(strategy=\"mean\")),\n",
        "    (\"gbr\", GradientBoostingRegressor(random_state=42))\n",
        "])\n",
        "\n",
        "rf_grid = {\"rf__n_estimators\": [200, 400], \"rf__max_depth\": [None, 6, 10], \"rf__min_samples_split\": [2, 5, 10]}\n",
        "rf_search = GridSearchCV(pipe_rf,\n",
        "                         rf_grid, cv=5, scoring=\"neg_mean_squared_error\", n_jobs=-1)\n",
        "rf_search.fit(X_train, y_train)\n",
        "best_rf = rf_search.best_estimator_\n",
        "\n",
        "gbr_grid = {\"gbr__n_estimators\": [200, 400], \"gbr__learning_rate\": [0.03, 0.05, 0.1], \"gbr__max_depth\": [2, 3, 4]}\n",
        "gbr_search = GridSearchCV(pipe_gbr,\n",
        "                          gbr_grid, cv=5, scoring=\"neg_mean_squared_error\", n_jobs=-1)\n",
        "gbr_search.fit(X_train, y_train)\n",
        "best_gbr = gbr_search.best_estimator_\n",
        "\n",
        "# Đánh giá sau tuning\n",
        "def eval_model(m, name):\n",
        "    # The fitted model from GridSearchCV is already a pipeline including imputer\n",
        "    pred = m.predict(X_test)\n",
        "    return {\"model\": name,\n",
        "            \"RMSE\": rmse(y_test, pred),\n",
        "            \"MAE\": mean_absolute_error(y_test, pred),\n",
        "            \"R2\": r2_score(y_test, pred)}\n",
        "\n",
        "tuned_results = [eval_model(best_rf, \"Random Forest (Tuned)\"),\n",
        "                 eval_model(best_gbr, \"Gradient Boosting (Tuned)\")]\n",
        "print(pd.DataFrame(tuned_results))"
      ],
      "metadata": {
        "colab": {
          "base_uri": "https://localhost:8080/"
        },
        "id": "9MZXmkqOQAbo",
        "outputId": "18ef5e2c-44e9-4f85-c0c4-38f8ae74956b"
      },
      "execution_count": 11,
      "outputs": [
        {
          "output_type": "stream",
          "name": "stdout",
          "text": [
            "                       model      RMSE       MAE        R2\n",
            "0      Random Forest (Tuned)  2.918760  2.031093  0.883830\n",
            "1  Gradient Boosting (Tuned)  2.522466  1.815648  0.913235\n"
          ]
        }
      ]
    },
    {
      "cell_type": "code",
      "source": [
        "all_compare = pd.concat([results_df, pd.DataFrame(tuned_results)])\n",
        "best_row = all_compare.sort_values(by=\"RMSE\").iloc[0]\n",
        "best_name = best_row[\"model\"]\n",
        "print(\"Best model:\", best_name)\n",
        "\n",
        "name_to_model = {\"Linear Regression\": pipe_lr,\n",
        "                 \"Random Forest\": rf,\n",
        "                 \"Gradient Boosting\": gbr,\n",
        "                 \"Random Forest (Tuned)\": best_rf,\n",
        "                 \"Gradient Boosting (Tuned)\": best_gbr}\n",
        "best_model = name_to_model[best_name]\n",
        "best_model.fit(X_full, y)\n",
        "\n",
        "joblib.dump(best_model, \"best_model.pkl\")\n",
        "with open(\"train_columns.json\", \"w\", encoding=\"utf-8\") as f:\n",
        "    json.dump({\"columns\": list(X_full.columns), \"target\": \"MEDV\", \"best_model_name\": best_name}, f, indent=2)\n"
      ],
      "metadata": {
        "colab": {
          "base_uri": "https://localhost:8080/"
        },
        "id": "1l-x31LyQ63Z",
        "outputId": "69dacc32-81a2-4f06-8b25-dd20aa6ab417"
      },
      "execution_count": 12,
      "outputs": [
        {
          "output_type": "stream",
          "name": "stdout",
          "text": [
            "Best model: Gradient Boosting (Tuned)\n"
          ]
        }
      ]
    },
    {
      "cell_type": "code",
      "source": [
        "preds_test = best_model.predict(X_test)\n",
        "residuals = y_test - preds_test\n",
        "plt.scatter(preds_test, residuals)\n",
        "plt.axhline(0)\n",
        "plt.title(\"Residuals vs Predicted\")\n",
        "plt.show()"
      ],
      "metadata": {
        "colab": {
          "base_uri": "https://localhost:8080/",
          "height": 452
        },
        "id": "ZspyzzMwRBns",
        "outputId": "b354cf79-5dea-4d49-a3fa-655c49366c12"
      },
      "execution_count": 13,
      "outputs": [
        {
          "output_type": "display_data",
          "data": {
            "text/plain": [
              "<Figure size 640x480 with 1 Axes>"
            ],
            "image/png": "[encoded data removed]"
          },
          "metadata": {}
        }
      ]
    },
    {
      "cell_type": "code",
      "source": [
        "# === RUN STREAMLIT WITH NGROK (STABLE) ===\n",
        "NGROK_TOKEN = \"31nCYYDMmx0AGZsJ8JwgqM7gfmt_25bMXMuuCkiELYXxrAjyH\"  # <-- DÁN TOKEN THẬT VÀO ĐÂY\n",
        "APP_FILE = \"app.py\"  # đổi nếu bạn đặt tên khác\n",
        "\n",
        "# 0) Cài & dọn\n",
        "!pip -q install streamlit pyngrok\n",
        "!fuser -k 8501/tcp 2>/dev/null || true\n",
        "!fuser -k 8502/tcp 2>/dev/null || true\n",
        "!pkill -f \"streamlit run\" 2>/dev/null || true\n",
        "\n",
        "# 1) Kiểm tra file\n",
        "import os, time\n",
        "assert os.path.exists(APP_FILE), f\"Không thấy {APP_FILE} trong thư mục hiện tại\"\n",
        "\n",
        "# 2) Chạy streamlit nền (PORT 8502)\n",
        "!streamlit run {APP_FILE} --server.headless true --server.port 8502 > /tmp/streamlit.log 2>&1 &\n",
        "time.sleep(3)\n",
        "\n",
        "# 3) Mở tunnel ngrok và in URL\n",
        "from pyngrok import ngrok, conf\n",
        "ngrok.set_auth_token(NGROK_TOKEN)   # nếu token sai sẽ báo ngay ở đây\n",
        "\n",
        "public_url = ngrok.connect(8502, \"http\").public_url\n",
        "print(\"Public URL:\", public_url)\n",
        "\n",
        "print(\"\\nXem log nếu cần debug:\")\n",
        "!sed -n '1,80p' /tmp/streamlit.log\n"
      ],
      "metadata": {
        "colab": {
          "base_uri": "https://localhost:8080/"
        },
        "id": "SmDqWCYJvh0r",
        "outputId": "aa416af9-662a-4b3a-87fe-bd092e7a0f62"
      },
      "execution_count": 29,
      "outputs": [
        {
          "output_type": "stream",
          "name": "stdout",
          "text": [
            " 17109^C\n",
            "Public URL: https://3a93fcdde801.ngrok-free.app\n",
            "\n",
            "Xem log nếu cần debug:\n",
            "\n",
            "Collecting usage statistics. To deactivate, set browser.gatherUsageStats to false.\n",
            "\n",
            "\n",
            "  You can now view your Streamlit app in your browser.\n",
            "\n",
            "  Local URL: http://localhost:8502\n",
            "  Network URL: http://172.28.0.12:8502\n",
            "  External URL: http://34.87.188.0:8502\n",
            "\n"
          ]
        }
      ]
    },
    {
      "cell_type": "code",
      "source": [
        "!sed -n '1,200p' /tmp/streamlit.log\n"
      ],
      "metadata": {
        "colab": {
          "base_uri": "https://localhost:8080/"
        },
        "id": "b-7DpM9KnXz4",
        "outputId": "798e9ef0-6877-47f7-ecd5-6da936063983"
      },
      "execution_count": 20,
      "outputs": [
        {
          "output_type": "stream",
          "name": "stdout",
          "text": [
            "\n",
            "Collecting usage statistics. To deactivate, set browser.gatherUsageStats to false.\n",
            "\n",
            "\n",
            "  You can now view your Streamlit app in your browser.\n",
            "\n",
            "  Local URL: http://localhost:8502\n",
            "  Network URL: http://172.28.0.12:8502\n",
            "  External URL: http://34.87.188.0:8502\n",
            "\n"
          ]
        }
      ]
    },
    {
      "cell_type": "code",
      "source": [
        "!kill -9 $(lsof -t -i:8501)\n"
      ],
      "metadata": {
        "colab": {
          "base_uri": "https://localhost:8080/"
        },
        "id": "VOgGPJ8KnkM3",
        "outputId": "79be0be2-38b6-4690-f6da-d35759e69d54"
      },
      "execution_count": 21,
      "outputs": [
        {
          "output_type": "stream",
          "name": "stdout",
          "text": [
            "kill: usage: kill [-s sigspec | -n signum | -sigspec] pid | jobspec ... or kill -l [sigspec]\n"
          ]
        }
      ]
    }
  ]
}